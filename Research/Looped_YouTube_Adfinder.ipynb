{
 "cells": [
  {
   "cell_type": "code",
   "execution_count": 5,
   "metadata": {},
   "outputs": [
    {
     "name": "stdout",
     "output_type": "stream",
     "text": [
      "No ads found\n",
      "No ads found\n",
      "No ads found\n",
      "No ads found\n",
      "No ads found\n",
      "No ads found\n",
      "['NA', '<div class=\"videoAdUiVisitAdvertiserLinkText\">DriveTime.com</div>', 'NA', '<div class=\"videoAdUiVisitAdvertiserLinkText\">Visit Advertiser\\'s Site</div>', '<div class=\"videoAdUiVisitAdvertiserLinkText\">target.com</div>', '<div class=\"videoAdUiVisitAdvertiserLinkText\">shop.guess.com</div>', 'NA', 'NA', 'NA', 'NA']\n",
      "['NA', '<div class=\"videoAdUiAttribution\">Ad  · 0:15</div>', 'NA', '<div class=\"videoAdUiAttribution\">Ad  · 0:13</div>', '<div class=\"videoAdUiAttribution\">Ad  · 0:14</div>', '<div class=\"videoAdUiAttribution\">Ad  · 0:05</div>', 'NA', 'NA', 'NA', 'NA']\n"
     ]
    }
   ],
   "source": [
    "import numpy as np\n",
    "import pandas as pd\n",
    "from selenium import webdriver\n",
    "import time # this is for sleeping\n",
    "from selenium.common.exceptions import NoSuchElementException #used if no ad found\n",
    "\n",
    "#List of Webpages\n",
    "webpages =['https://www.youtube.com/watch?v=q8DkyFH9jXI', 'https://www.youtube.com/watch?v=XnbCSboujF4', \n",
    "           'https://www.youtube.com/watch?v=KGE0x5dIpxA', 'https://www.youtube.com/watch?v=CZkUNPBlJIQ',\n",
    "          'https://www.youtube.com/watch?v=H1d9pBy52X0', 'https://www.youtube.com/watch?v=yDiXQl7grPQ',\n",
    "          'https://www.youtube.com/watch?v=JkT3lP2kEig', 'https://www.youtube.com/watch?v=oY2nVQNlUB8',\n",
    "          'https://www.youtube.com/watch?v=0URpDxIjZrQ', 'https://www.youtube.com/watch?v=NaY91YjVbEM'] \n",
    "\n",
    "#List of AdSites\n",
    "adsitelist = []\n",
    "adtimelist = []\n",
    "\n",
    "\n",
    "for i in range(0, len(webpages)):\n",
    "\n",
    "    # initializing the browser and going to a web page\n",
    "    # open Firefox\n",
    "    browser = webdriver.Firefox()\n",
    "\n",
    "    # go to the web page that we want to scrape from\n",
    "    #Ads\n",
    "    #https://www.youtube.com/watch?v=DeumyOzKqgI\n",
    "    #no Ads\n",
    "    #https://www.youtube.com/watch?v=T-n_vav7BfU\n",
    "    browser.get(webpages[i])\n",
    "\n",
    "    # wait for browser/page to load before doing anything else\n",
    "    '''\n",
    "    If you don't do this, selenium may get confused while running \n",
    "    the next command because whatever object it looks for may not yet be there.\n",
    "    So when running a command that will open a new web page it is usually\n",
    "    a good idea to sleep for a few seconds.\n",
    "    ''' \n",
    "    time.sleep(2)\n",
    "\n",
    "\n",
    "\n",
    "\n",
    "\n",
    "    try:\n",
    "        adtime = browser.find_element_by_class_name(\"videoAdUiAttribution\")\n",
    "        adsite = browser.find_element_by_class_name(\"videoAdUiVisitAdvertiserLinkText\")\n",
    "    except NoSuchElementException:\n",
    "        adsitelist.append(\"NA\")\n",
    "        adtimelist.append(\"NA\")\n",
    "        print(\"No ads found\")\n",
    "    else:\n",
    "        adtimelist.append(adtime.get_attribute('outerHTML'))\n",
    "        adsitelist.append(adsite.get_attribute('outerHTML'))\n",
    "    \n",
    "    # close the browser now that we've got the data we need\n",
    "    browser.close()\n",
    "\n",
    "# print(adsitelist)\n",
    "# print(adtimelist)\n",
    "\n"
   ]
  },
  {
   "cell_type": "code",
   "execution_count": null,
   "metadata": {},
   "outputs": [],
   "source": []
  },
  {
   "cell_type": "code",
   "execution_count": 15,
   "metadata": {},
   "outputs": [
    {
     "name": "stdout",
     "output_type": "stream",
     "text": [
      "['NA', 'DriveTime.com', 'NA', \"Visit Advertiser's Site\", 'target.com', 'shop.guess.com', 'NA', 'NA', 'NA', 'NA']\n"
     ]
    }
   ],
   "source": [
    "import re\n",
    "urllist1 = []\n",
    "p = re.compile(\"[A-Za-z0-9-.]+\\.(com|org)|(Visit Advertiser\\\\'s Site)|(NA)\")\n",
    "\n",
    "for url in adsitelist:\n",
    "    urllist1.append(p.search(url).group())\n",
    "print(urllist1)"
   ]
  },
  {
   "cell_type": "code",
   "execution_count": 39,
   "metadata": {},
   "outputs": [
    {
     "name": "stdout",
     "output_type": "stream",
     "text": [
      "['NA', '15', 'NA', '13', '14', '5', 'NA', 'NA', 'NA', 'NA']\n"
     ]
    }
   ],
   "source": [
    "newlist = []\n",
    "times = []\n",
    "n = re.compile(\"[1-9][0-9]*\")\n",
    "\n",
    "for t in adtimelist:\n",
    "    times.append(re.findall(n,t))\n",
    "#print(times)\n",
    "for i in times:\n",
    "    if len(i) == 0:\n",
    "            newlist.append(\"NA\")\n",
    "    for j in i:\n",
    "            newlist.append(j)\n",
    "# print(newlist)"
   ]
  },
  {
   "cell_type": "code",
   "execution_count": 4,
   "metadata": {},
   "outputs": [],
   "source": [
    "import numpy as np\n",
    "import pandas as pd\n",
    "from selenium import webdriver\n",
    "from selenium.webdriver import ActionChains\n",
    "import time # this is for sleeping\n",
    "from selenium.common.exceptions import NoSuchElementException #used if no ad found\n",
    "\n",
    "videolist = []\n",
    "browser = webdriver.Firefox()\n",
    "\n",
    "\n",
    "browser.get(\"https://www.youtube.com/watch?v=DeumyOzKqgI\")\n",
    "\n",
    "\n",
    "time.sleep(3)\n",
    "\n",
    "\n",
    "\n",
    "browser.find_element_by_id(\"movie_player\").click()\n",
    "\n",
    "actionChains = ActionChains(browser)\n",
    "\n",
    "videoClick = browser.find_element_by_id(\"movie_player\")\n",
    "\n",
    "actionChains.context_click(videoClick).perform()\n",
    "\n",
    "# submenu = browser.find_element_by_class_name(\"ytp-panel-menu\")\n",
    "# stats = browser.find_element_by_css_selector(\"body > div.ytp-popup.ytp-contextmenu > div > div > div:nth-child(13)\")\n",
    "\n",
    "# actionChains.move_to_element(submenu).click(stats).perform()\n",
    "# # browser.find_element_by_class_name(\"ytp-menuitem-content\").click()\n",
    "# # div.ytp-popup:nth-child(30)\n",
    "\n",
    "# # try:\n",
    "# #     advideo = browser.find_element_by_class_name(\"html5-video-info-panel-content\")\n",
    "\n",
    "# # except NoSuchElementException:\n",
    "# #     videolist.append(\"NA\")\n",
    "# #     print(\"No ads found\")\n",
    "# # else:\n",
    "# #     videolist.append(advideo.get_attribute('outerHTML'))\n",
    "\n",
    "\n",
    "# # # close the browser now that we've got the data we need\n",
    "# # # browser.close()\n",
    "\n",
    "# # print(videolist)"
   ]
  },
  {
   "cell_type": "code",
   "execution_count": null,
   "metadata": {},
   "outputs": [],
   "source": []
  }
 ],
 "metadata": {
  "kernelspec": {
   "display_name": "Python 3",
   "language": "python",
   "name": "python3"
  },
  "language_info": {
   "codemirror_mode": {
    "name": "ipython",
    "version": 3
   },
   "file_extension": ".py",
   "mimetype": "text/x-python",
   "name": "python",
   "nbconvert_exporter": "python",
   "pygments_lexer": "ipython3",
   "version": "3.6.4"
  }
 },
 "nbformat": 4,
 "nbformat_minor": 2
}
